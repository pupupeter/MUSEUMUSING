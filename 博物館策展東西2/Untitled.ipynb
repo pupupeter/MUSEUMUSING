{
 "cells": [
  {
   "cell_type": "code",
   "execution_count": null,
   "id": "970fd3c4-5387-45f8-a8a7-462cd15723b6",
   "metadata": {},
   "outputs": [
    {
     "name": "stdout",
     "output_type": "stream",
     "text": [
      " * Serving Flask app '__main__'\n",
      " * Debug mode: on\n"
     ]
    },
    {
     "name": "stderr",
     "output_type": "stream",
     "text": [
      "WARNING: This is a development server. Do not use it in a production deployment. Use a production WSGI server instead.\n",
      " * Running on all addresses (0.0.0.0)\n",
      " * Running on http://127.0.0.1:5000\n",
      " * Running on http://172.18.34.158:5000\n",
      "Press CTRL+C to quit\n"
     ]
    }
   ],
   "source": [
    "from flask import Flask, render_template, request, redirect\n",
    "from pymongo import MongoClient\n",
    "app = Flask(__name__)\n",
    "# MongoDB 连接配置\n",
    "client = MongoClient(\"mongodb://localhost:27017/\")  # 替换为你的 MongoDB 地址\n",
    "db = client[\"museum\"]  # 数据库名称\n",
    "collection = db[\"留言板\"]  # 集合名称\n",
    "# 路由設置\n",
    "@app.route('/')\n",
    "def home():\n",
    "    return render_template('home.html')\n",
    "\n",
    "@app.route('/about')\n",
    "def about():\n",
    "    return render_template('about.html')\n",
    "\n",
    "\n",
    "@app.route('/contact')\n",
    "def contact():\n",
    "    return render_template('contact.html')\n",
    "\n",
    "@app.route('/services')\n",
    "def services():\n",
    "    return render_template('services.html')\n",
    "\n",
    "@app.route('/products')\n",
    "def products():\n",
    "    return render_template('products.html')\n",
    "    \n",
    "@app.route('/cambodia')\n",
    "def cambodia():\n",
    "    return render_template('cambodia.html')\n",
    "    \n",
    "@app.route('/vietnam')\n",
    "def vietnam():\n",
    "    return render_template('vietnam.html')\n",
    "    \n",
    "@app.route('/malaysia')\n",
    "def malaysia():\n",
    "    return render_template('malaysia.html')\n",
    "\n",
    "@app.route('/myanmar')\n",
    "def myanmar():\n",
    "    return render_template('myanmar.html')\n",
    "@app.route('/indonesia')\n",
    "def indonesia():\n",
    "    return render_template('indonesia.html')\n",
    "@app.route('/EastTimor')\n",
    "def EastTimor():\n",
    "    return render_template('EastTimor.html')\n",
    "@app.route('/curation')\n",
    "def curation():\n",
    "    return render_template('curation.html')\n",
    "# 留言板页面\n",
    "@app.route('/guestbook', methods=[\"GET\", \"POST\"])\n",
    "def guestbook():\n",
    "    if request.method == \"POST\":\n",
    "        # 获取表单数据\n",
    "        name = request.form.get(\"name\")\n",
    "        message = request.form.get(\"message\")\n",
    "        \n",
    "        # 验证输入内容并保存到数据库\n",
    "        if name and message:\n",
    "            collection.insert_one({\"name\": name, \"message\": message})\n",
    "            return redirect('/guestbook')  # 重定向到留言板页面\n",
    "    \n",
    "    # 查询所有留言\n",
    "    messages = list(collection.find())\n",
    "    return render_template('guestbook.html', messages=messages)\n",
    "if __name__ == '__main__':\n",
    "    app.run(host=\"0.0.0.0\", port=5000, debug=True, use_reloader=False)"
   ]
  },
  {
   "cell_type": "code",
   "execution_count": null,
   "id": "88ac147f-25a3-4b01-8ede-7b4aa4a1d1c6",
   "metadata": {},
   "outputs": [],
   "source": []
  },
  {
   "cell_type": "code",
   "execution_count": null,
   "id": "34f67a7e-28bd-4e35-a2b6-c298a927f43c",
   "metadata": {},
   "outputs": [],
   "source": []
  }
 ],
 "metadata": {
  "kernelspec": {
   "display_name": "Python 3 (ipykernel)",
   "language": "python",
   "name": "python3"
  },
  "language_info": {
   "codemirror_mode": {
    "name": "ipython",
    "version": 3
   },
   "file_extension": ".py",
   "mimetype": "text/x-python",
   "name": "python",
   "nbconvert_exporter": "python",
   "pygments_lexer": "ipython3",
   "version": "3.11.7"
  }
 },
 "nbformat": 4,
 "nbformat_minor": 5
}
